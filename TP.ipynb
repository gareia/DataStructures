{
  "nbformat": 4,
  "nbformat_minor": 0,
  "metadata": {
    "colab": {
      "name": "TP.ipynb",
      "provenance": [],
      "authorship_tag": "ABX9TyMifSNZV+bQnhpqTDF7LssD",
      "include_colab_link": true
    },
    "kernelspec": {
      "name": "python3",
      "display_name": "Python 3"
    },
    "language_info": {
      "name": "python"
    }
  },
  "cells": [
    {
      "cell_type": "markdown",
      "metadata": {
        "id": "view-in-github",
        "colab_type": "text"
      },
      "source": [
        "<a href=\"https://colab.research.google.com/github/gareia/DataStructures/blob/master/TP.ipynb\" target=\"_parent\"><img src=\"https://colab.research.google.com/assets/colab-badge.svg\" alt=\"Open In Colab\"/></a>"
      ]
    },
    {
      "cell_type": "markdown",
      "metadata": {
        "id": "ycVmixQYKu9K"
      },
      "source": [
        "#OFICIAL"
      ]
    },
    {
      "cell_type": "code",
      "metadata": {
        "colab": {
          "base_uri": "https://localhost:8080/"
        },
        "id": "hd1XQDpUJJU8",
        "outputId": "9a0b63fc-779a-4c62-a70d-2302d9f2d163"
      },
      "source": [
        "!git clone https://github.com/lmcanavals/algorithmic_complexity.git"
      ],
      "execution_count": 1,
      "outputs": [
        {
          "output_type": "stream",
          "text": [
            "Cloning into 'algorithmic_complexity'...\n",
            "remote: Enumerating objects: 268, done.\u001b[K\n",
            "remote: Counting objects: 100% (268/268), done.\u001b[K\n",
            "remote: Compressing objects: 100% (263/263), done.\u001b[K\n",
            "remote: Total 268 (delta 150), reused 0 (delta 0), pack-reused 0\u001b[K\n",
            "Receiving objects: 100% (268/268), 274.11 KiB | 7.83 MiB/s, done.\n",
            "Resolving deltas: 100% (150/150), done.\n"
          ],
          "name": "stdout"
        }
      ]
    },
    {
      "cell_type": "code",
      "metadata": {
        "id": "nR1fSMx1Josc"
      },
      "source": [
        "import pandas as pd\n",
        "import numpy as np\n",
        "\n",
        "base=\"https://raw.githubusercontent.com/lmcanavals/algorithmic_complexity/main/data/\"\n",
        "csv=\"poblaciones.csv\"\n",
        "poblacionesDF=pd.read_csv(f\"{base}{csv}\")\n",
        "\n",
        "#otra opcion\n",
        "#url=\"https://raw.githubusercontent.com/lmcanavals/algorithmic_complexity/main/data/poblaciones.csv\"\n",
        "#poblacionesDF=pd.read_csv(url)\n",
        "\n",
        "#print(len(poblacionesDF))\n",
        "#poblacionesDF.head()\n",
        "nombreprovincias = poblacionesDF[\"PROVINCIA\"].unique()\n",
        "#print(len(nombreprovincias))"
      ],
      "execution_count": 2,
      "outputs": []
    },
    {
      "cell_type": "code",
      "metadata": {
        "colab": {
          "base_uri": "https://localhost:8080/"
        },
        "id": "AvoKEUU0JzEB",
        "outputId": "f605d1c7-2cad-4197-87aa-1332a97af6db"
      },
      "source": [
        "provincias = dict()\n",
        "for nombre in nombreprovincias:\n",
        "  provincias[nombre] = poblacionesDF[poblacionesDF[\"PROVINCIA\"]==nombre]\n",
        "  if len(provincias[nombre])>30:\n",
        "    print(nombre, len(provincias[nombre])) ## de centros poblados"
      ],
      "execution_count": 3,
      "outputs": [
        {
          "output_type": "stream",
          "text": [
            "HUARAZ 38\n",
            "ABANCAY 41\n",
            "HUANCA SANCOS 38\n",
            "LUCANAS 92\n",
            "CASTROVIRREYNA 49\n",
            "HUAYTARA 32\n",
            "AMBO 37\n",
            "ICA 60\n",
            "TARMA 35\n",
            "ASCOPE 67\n",
            "CHEPEN 82\n",
            "PACASMAYO 52\n",
            "TRUJILLO 68\n",
            "CHICLAYO 250\n",
            "FERREÑAFE 127\n",
            "LAMBAYEQUE 440\n",
            "CAÑETE 48\n",
            "MAYNAS 70\n",
            "REQUENA 79\n",
            "PASCO 33\n",
            "HUANCABAMBA 46\n",
            "MORROPON 102\n",
            "PIURA 185\n",
            "SECHURA 76\n",
            "SULLANA 56\n",
            "CARABAYA 36\n",
            "TUMBES 33\n",
            "CORONEL PORTILLO 159\n"
          ],
          "name": "stdout"
        }
      ]
    },
    {
      "cell_type": "code",
      "metadata": {
        "id": "-Bi9W77UJ2rd"
      },
      "source": [
        "#@title PROVINCIA\n",
        "\n",
        "nombre_provincia = 'LAMBAYEQUE'  #@param\n",
        "\n"
      ],
      "execution_count": 5,
      "outputs": []
    },
    {
      "cell_type": "markdown",
      "metadata": {
        "id": "VLrPPTvtKD6w"
      },
      "source": [
        "### N° distritos en la provincia"
      ]
    },
    {
      "cell_type": "code",
      "metadata": {
        "colab": {
          "base_uri": "https://localhost:8080/"
        },
        "id": "O0Bcc3QsJ-Gb",
        "outputId": "b00b7bf8-b9f7-44f0-a292-f08dff1ef012"
      },
      "source": [
        "nombredistritos = provincias[nombre_provincia][\"DISTRITO\"].unique()\n",
        "print(len(nombredistritos))"
      ],
      "execution_count": 6,
      "outputs": [
        {
          "output_type": "stream",
          "text": [
            "12\n"
          ],
          "name": "stdout"
        }
      ]
    },
    {
      "cell_type": "code",
      "metadata": {
        "colab": {
          "base_uri": "https://localhost:8080/"
        },
        "id": "qkW4VMD9KRHr",
        "outputId": "b8bc02b4-5f21-4ea3-b524-67bbb80f9d4d"
      },
      "source": [
        "distritos = dict()\n",
        "for nombre in nombredistritos:\n",
        "  distritos[nombre] = provincias[nombre_provincia][provincias[nombre_provincia][\"DISTRITO\"] == nombre]\n",
        "  print(nombre, len(distritos[nombre]))"
      ],
      "execution_count": 7,
      "outputs": [
        {
          "output_type": "stream",
          "text": [
            "CHOCHOPE 6\n",
            "ILLIMO 20\n",
            "JAYANCA 39\n",
            "LAMBAYEQUE 32\n",
            "MOCHUMI 41\n",
            "MORROPE 48\n",
            "MOTUPE 44\n",
            "OLMOS 125\n",
            "PACORA 29\n",
            "SALAS 10\n",
            "SAN JOSE 5\n",
            "TUCUME 41\n"
          ],
          "name": "stdout"
        }
      ]
    },
    {
      "cell_type": "code",
      "metadata": {
        "id": "jdzB9N2EKTtM"
      },
      "source": [
        "class CentroPoblado:\n",
        "  def __init__(self, name, x, y):\n",
        "    self.name = name\n",
        "    self.x = x\n",
        "    self.y = y\n",
        "    self.cost = 0\n",
        "  def detail(self):\n",
        "    print(f\"Name:{self.name} X:{self.x} Y:{self.y} C:{self.cost}\")"
      ],
      "execution_count": 8,
      "outputs": []
    },
    {
      "cell_type": "code",
      "metadata": {
        "id": "HYjSM0VlKVgl"
      },
      "source": [
        "class Distrito:\n",
        "  def __init__(self):\n",
        "    self.path : CentroPoblado = []\n",
        "  def detail(self):\n",
        "    pathString = ''\n",
        "    for cp in self.path:\n",
        "      pathString += '>>'+cp.name\n",
        "    return pathString\n",
        "  def reverse(self):\n",
        "    self.path.reverse()\n",
        "  def getFirstCP(self):\n",
        "    return self.path[0]\n",
        "  def getLastCP(self):\n",
        "    return self.path[-1]"
      ],
      "execution_count": 9,
      "outputs": []
    },
    {
      "cell_type": "code",
      "metadata": {
        "id": "9zzzox96KXg1"
      },
      "source": [
        "class Provincia:\n",
        "  def __init__(self):\n",
        "    self.path : Distrito = []\n",
        "  def detail(self):\n",
        "    pathString = ''\n",
        "    for d in self.path:\n",
        "      pathString += d.detail() + '||'\n",
        "    return pathString"
      ],
      "execution_count": 10,
      "outputs": []
    },
    {
      "cell_type": "code",
      "metadata": {
        "id": "V3VTCUMEKZkA"
      },
      "source": [
        "import math\n",
        "\n",
        "def distance(cp1: CentroPoblado, cp2: CentroPoblado):\n",
        "  return math.sqrt((cp2.x-cp1.x)**2+(cp2.y-cp1.y)**2)"
      ],
      "execution_count": 11,
      "outputs": []
    },
    {
      "cell_type": "code",
      "metadata": {
        "id": "_V00w4V_Kc6s"
      },
      "source": [
        "import heapq as hq"
      ],
      "execution_count": 12,
      "outputs": []
    },
    {
      "cell_type": "code",
      "metadata": {
        "id": "0I_pMvKvKenr"
      },
      "source": [
        "def solveCPS(cps):\n",
        "  dist = Distrito()\n",
        "  s = cps.pop(0) #cp\n",
        "  dist.path.append(s)\n",
        "\n",
        "  while cps:\n",
        "    longs = []\n",
        "    for i in range(len(cps)):\n",
        "      #print(f\"*{i}\")\n",
        "      d = distance(s, cps[i])\n",
        "      #print(f\"{d}-{cps[i].name}\")\n",
        "      hq.heappush(longs, (d, i))\n",
        "    \n",
        "    minPathNode = hq.heappop(longs)\n",
        "    s = cps.pop(minPathNode[1])\n",
        "    s.cost = minPathNode[0]\n",
        "    dist.path.append(s)\n",
        "\n",
        "  return dist"
      ],
      "execution_count": 13,
      "outputs": []
    },
    {
      "cell_type": "code",
      "metadata": {
        "id": "yxz9eJGwKgag"
      },
      "source": [
        "def solveDISTS(dists):\n",
        "  prov = Provincia()\n",
        "  s = dists.pop(0) #distrito\n",
        "\n",
        "  prov.path.append(s)\n",
        "\n",
        "  while dists:\n",
        "    longs = []\n",
        "    for i in range(len(dists)):\n",
        "      #print(f\"*{s.getLastCP().name}->{i}\")\n",
        "      d = distance(s.getLastCP(), dists[i].getFirstCP())\n",
        "      hq.heappush(longs, (d, i, 1))\n",
        "      #print(f\"{d}-{dists[i].getFirstCP().name}\")\n",
        "      d = distance(s.getLastCP(), dists[i].getLastCP())\n",
        "      hq.heappush(longs, (d, i, 0))\n",
        "      #print(f\"{d}-{dists[i].getLastCP().name}\")\n",
        "    \n",
        "    minLong = hq.heappop(longs)\n",
        "    s = dists.pop(minLong[1])\n",
        "\n",
        "    if (minLong[2] == 0): #fin\n",
        "      s.reverse()\n",
        "\n",
        "    s.getLastCP().cost = minLong[0]\n",
        "    prov.path.append(s)\n",
        "  \n",
        "  return prov"
      ],
      "execution_count": 14,
      "outputs": []
    },
    {
      "cell_type": "code",
      "metadata": {
        "id": "3SHtRV6OKjFh"
      },
      "source": [
        "def solvePROVS():\n",
        "  dists = []\n",
        "  for nombre in nombredistritos:#por cada distrito\n",
        "    #print(\"DISTRITO: \",nombre)\n",
        "    data = []\n",
        "    cpNode = None\n",
        "    for i, d in distritos[nombre].iterrows():#p\n",
        "      cpNode = CentroPoblado(str(d[\"CENTRO POBLADO\"]), float(d[\"LATITUD\"]), float(d[\"LONGITUD\"]))\n",
        "      data.append(cpNode)\n",
        "    d = solveCPS(data)\n",
        "    #print(d.detail())\n",
        "    dists.append(d)\n",
        "  #print(solveDISTS(dists).detail())\n",
        "  solveDISTS(dists)\n",
        "\n",
        "#solvePROVS()"
      ],
      "execution_count": 15,
      "outputs": []
    },
    {
      "cell_type": "code",
      "metadata": {
        "id": "SsjTvIgoKk_M"
      },
      "source": [
        "%timeit solvePROVS()"
      ],
      "execution_count": null,
      "outputs": []
    },
    {
      "cell_type": "markdown",
      "metadata": {
        "id": "2vfTn88OKy1l"
      },
      "source": [
        "#PRUEBA"
      ]
    },
    {
      "cell_type": "code",
      "metadata": {
        "id": "Pls7gl3CK3Ob"
      },
      "source": [
        "%%file LONYA_GRANDE.in\n",
        "LONYA GRANDE,-5,2\n",
        "MATULI,-4,3"
      ],
      "execution_count": null,
      "outputs": []
    },
    {
      "cell_type": "code",
      "metadata": {
        "id": "P9WWpfDIK4Cc"
      },
      "source": [
        "%%file JAZAN.in\n",
        "PEDRO RUIZ GALLO,1,6\n",
        "SANTA ROSA,4,3"
      ],
      "execution_count": null,
      "outputs": []
    },
    {
      "cell_type": "code",
      "metadata": {
        "id": "FwEjbseQK5SZ"
      },
      "source": [
        "%%file CUMBA.in\n",
        "TAGTAGO,0,0\n",
        "CHALA,0,-5"
      ],
      "execution_count": null,
      "outputs": []
    },
    {
      "cell_type": "code",
      "metadata": {
        "id": "CVQAT0c3K7GT"
      },
      "source": [
        "%%file UTCUBAMBA.in\n",
        "LONYA_GRANDE\n",
        "JAZAN\n",
        "CUMBA"
      ],
      "execution_count": null,
      "outputs": []
    },
    {
      "cell_type": "code",
      "metadata": {
        "id": "Ct4ZP5NCK98d"
      },
      "source": [
        "def aaa(filename):\n",
        "  print(filename)\n",
        "  with open(f\"{filename}.in\") as file:\n",
        "    cps_data = []\n",
        "    cp = None\n",
        "    for line in file:\n",
        "      nombre, x, y = line.split(',')\n",
        "      cp = CentroPoblado(str(nombre), float(x), float(y))\n",
        "      cps_data.append(cp)\n",
        "  return solveCPS(cps_data)"
      ],
      "execution_count": null,
      "outputs": []
    },
    {
      "cell_type": "code",
      "metadata": {
        "id": "AGx-qRmVK-gz"
      },
      "source": [
        "with open('UTCUBAMBA.in') as file:\n",
        "  dists_data = []\n",
        "  d = None\n",
        "  for line in file: #n\n",
        "    filename = line.split()[0] #\n",
        "    d = aaa(str(filename))\n",
        "    print(d.detail())\n",
        "    dists_data.append(d)\n",
        "\n",
        "print(solveDISTS(dists_data).detail())"
      ],
      "execution_count": null,
      "outputs": []
    }
  ]
}